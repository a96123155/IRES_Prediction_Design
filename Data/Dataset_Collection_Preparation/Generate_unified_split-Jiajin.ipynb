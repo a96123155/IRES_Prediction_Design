{
 "cells": [
  {
   "cell_type": "markdown",
   "metadata": {},
   "source": [
    "#### Import libraries"
   ]
  },
  {
   "cell_type": "code",
   "execution_count": 1,
   "metadata": {},
   "outputs": [],
   "source": [
    "import pandas as pd\n",
    "from sklearn.model_selection import StratifiedShuffleSplit\n",
    "from collections import defaultdict"
   ]
  },
  {
   "cell_type": "markdown",
   "metadata": {},
   "source": [
    "#### Load data"
   ]
  },
  {
   "cell_type": "code",
   "execution_count": null,
   "metadata": {},
   "outputs": [],
   "source": [
    "data = pd.read_csv('v2_dataset.csv')\n",
    "sequences = data['Sequence'] # List of sequences\n",
    "labels = data['IRES_class_600'] # List of labels"
   ]
  },
  {
   "cell_type": "markdown",
   "metadata": {},
   "source": [
    "#### Generate unified train test split index"
   ]
  },
  {
   "cell_type": "code",
   "execution_count": 7,
   "metadata": {},
   "outputs": [],
   "source": [
    "fold = 10\n",
    "sss = StratifiedShuffleSplit(n_splits=fold, test_size=0.1, random_state=0)    "
   ]
  },
  {
   "cell_type": "code",
   "execution_count": 16,
   "metadata": {},
   "outputs": [],
   "source": [
    "split_index = defaultdict(list)\n",
    "for fold, (train_index, test_index )in enumerate(sss.split(sequences, labels)):\n",
    "    split_index['fold'].extend([fold] * (len(train_index) + len(test_index)))\n",
    "    split_index['type'].extend(['train'] * len(train_index))\n",
    "    split_index['type'].extend(['test'] * len(test_index))\n",
    "    split_index['idx'].extend(train_index)\n",
    "    split_index['idx'].extend(test_index)"
   ]
  },
  {
   "cell_type": "code",
   "execution_count": 19,
   "metadata": {},
   "outputs": [],
   "source": [
    "pd.DataFrame(split_index).to_csv('unified.stratified_shuffle_train_test_split.csv', index=False)"
   ]
  }
 ],
 "metadata": {
  "kernelspec": {
   "display_name": "Python 3",
   "language": "python",
   "name": "python3"
  },
  "language_info": {
   "codemirror_mode": {
    "name": "ipython",
    "version": 3
   },
   "file_extension": ".py",
   "mimetype": "text/x-python",
   "name": "python",
   "nbconvert_exporter": "python",
   "pygments_lexer": "ipython3",
   "version": "3.9.0"
  }
 },
 "nbformat": 4,
 "nbformat_minor": 4
}
